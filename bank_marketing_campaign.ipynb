{
 "cells": [
  {
   "cell_type": "code",
   "execution_count": 277,
   "id": "initial_id",
   "metadata": {
    "collapsed": true,
    "ExecuteTime": {
     "end_time": "2024-03-24T05:29:31.084060Z",
     "start_time": "2024-03-24T05:29:31.078551Z"
    }
   },
   "outputs": [],
   "source": [
    "import matplotlib.pyplot as plt\n",
    "import numpy as np\n",
    "import pandas as pd\n",
    "import torch\n",
    "import torch.nn as nn\n",
    "import torch.optim as optim\n",
    "import tqdm\n",
    "import copy\n",
    "\n",
    "from sklearn.model_selection import train_test_split\n",
    "from sklearn.metrics import accuracy_score, precision_score, recall_score, f1_score"
   ]
  },
  {
   "cell_type": "code",
   "outputs": [],
   "source": [
    "data = pd.read_csv(\"dataset.csv\")\n"
   ],
   "metadata": {
    "collapsed": false,
    "ExecuteTime": {
     "end_time": "2024-03-24T05:29:31.131341Z",
     "start_time": "2024-03-24T05:29:31.090067Z"
    }
   },
   "id": "db452f09f45559dd",
   "execution_count": 278
  },
  {
   "cell_type": "code",
   "outputs": [
    {
     "data": {
      "text/plain": "                 occupation  age    education_level marital_status  \\\n0      administrative_staff   28        high_school        married   \n1      administrative_staff   58       unidentified        married   \n2                   jobless   40        high_school       divorced   \n3            retired_worker   63        high_school        married   \n4            business_owner   43            college        married   \n...                     ...  ...                ...            ...   \n45206  administrative_staff   50        high_school       divorced   \n45207    independent_worker   49            college        married   \n45208             executive   30            college        married   \n45209        retired_worker   59  elementary_school        married   \n45210  technical_specialist   34            college       divorced   \n\n      communication_channel call_month  call_day  call_duration  \\\n0              unidentified  September         9              1   \n1              unidentified       June         5            307   \n2                    mobile   February         4            113   \n3                    mobile      April         7             72   \n4                  landline       July        29            184   \n...                     ...        ...       ...            ...   \n45206                mobile        May         6            114   \n45207          unidentified        May        13             98   \n45208                mobile       June        12            175   \n45209              landline       July        15             41   \n45210          unidentified        May        29            578   \n\n       call_frequency previous_campaign_outcome conversion_status  \n0                   1                successful     not_converted  \n1                   2              unidentified     not_converted  \n2                   1              unidentified     not_converted  \n3                   5              unidentified     not_converted  \n4                   4              unidentified     not_converted  \n...               ...                       ...               ...  \n45206               1              unsuccessful     not_converted  \n45207               1              unidentified     not_converted  \n45208               2             other_outcome     not_converted  \n45209               5              unidentified     not_converted  \n45210               3              unidentified     not_converted  \n\n[45211 rows x 11 columns]",
      "text/html": "<div>\n<style scoped>\n    .dataframe tbody tr th:only-of-type {\n        vertical-align: middle;\n    }\n\n    .dataframe tbody tr th {\n        vertical-align: top;\n    }\n\n    .dataframe thead th {\n        text-align: right;\n    }\n</style>\n<table border=\"1\" class=\"dataframe\">\n  <thead>\n    <tr style=\"text-align: right;\">\n      <th></th>\n      <th>occupation</th>\n      <th>age</th>\n      <th>education_level</th>\n      <th>marital_status</th>\n      <th>communication_channel</th>\n      <th>call_month</th>\n      <th>call_day</th>\n      <th>call_duration</th>\n      <th>call_frequency</th>\n      <th>previous_campaign_outcome</th>\n      <th>conversion_status</th>\n    </tr>\n  </thead>\n  <tbody>\n    <tr>\n      <th>0</th>\n      <td>administrative_staff</td>\n      <td>28</td>\n      <td>high_school</td>\n      <td>married</td>\n      <td>unidentified</td>\n      <td>September</td>\n      <td>9</td>\n      <td>1</td>\n      <td>1</td>\n      <td>successful</td>\n      <td>not_converted</td>\n    </tr>\n    <tr>\n      <th>1</th>\n      <td>administrative_staff</td>\n      <td>58</td>\n      <td>unidentified</td>\n      <td>married</td>\n      <td>unidentified</td>\n      <td>June</td>\n      <td>5</td>\n      <td>307</td>\n      <td>2</td>\n      <td>unidentified</td>\n      <td>not_converted</td>\n    </tr>\n    <tr>\n      <th>2</th>\n      <td>jobless</td>\n      <td>40</td>\n      <td>high_school</td>\n      <td>divorced</td>\n      <td>mobile</td>\n      <td>February</td>\n      <td>4</td>\n      <td>113</td>\n      <td>1</td>\n      <td>unidentified</td>\n      <td>not_converted</td>\n    </tr>\n    <tr>\n      <th>3</th>\n      <td>retired_worker</td>\n      <td>63</td>\n      <td>high_school</td>\n      <td>married</td>\n      <td>mobile</td>\n      <td>April</td>\n      <td>7</td>\n      <td>72</td>\n      <td>5</td>\n      <td>unidentified</td>\n      <td>not_converted</td>\n    </tr>\n    <tr>\n      <th>4</th>\n      <td>business_owner</td>\n      <td>43</td>\n      <td>college</td>\n      <td>married</td>\n      <td>landline</td>\n      <td>July</td>\n      <td>29</td>\n      <td>184</td>\n      <td>4</td>\n      <td>unidentified</td>\n      <td>not_converted</td>\n    </tr>\n    <tr>\n      <th>...</th>\n      <td>...</td>\n      <td>...</td>\n      <td>...</td>\n      <td>...</td>\n      <td>...</td>\n      <td>...</td>\n      <td>...</td>\n      <td>...</td>\n      <td>...</td>\n      <td>...</td>\n      <td>...</td>\n    </tr>\n    <tr>\n      <th>45206</th>\n      <td>administrative_staff</td>\n      <td>50</td>\n      <td>high_school</td>\n      <td>divorced</td>\n      <td>mobile</td>\n      <td>May</td>\n      <td>6</td>\n      <td>114</td>\n      <td>1</td>\n      <td>unsuccessful</td>\n      <td>not_converted</td>\n    </tr>\n    <tr>\n      <th>45207</th>\n      <td>independent_worker</td>\n      <td>49</td>\n      <td>college</td>\n      <td>married</td>\n      <td>unidentified</td>\n      <td>May</td>\n      <td>13</td>\n      <td>98</td>\n      <td>1</td>\n      <td>unidentified</td>\n      <td>not_converted</td>\n    </tr>\n    <tr>\n      <th>45208</th>\n      <td>executive</td>\n      <td>30</td>\n      <td>college</td>\n      <td>married</td>\n      <td>mobile</td>\n      <td>June</td>\n      <td>12</td>\n      <td>175</td>\n      <td>2</td>\n      <td>other_outcome</td>\n      <td>not_converted</td>\n    </tr>\n    <tr>\n      <th>45209</th>\n      <td>retired_worker</td>\n      <td>59</td>\n      <td>elementary_school</td>\n      <td>married</td>\n      <td>landline</td>\n      <td>July</td>\n      <td>15</td>\n      <td>41</td>\n      <td>5</td>\n      <td>unidentified</td>\n      <td>not_converted</td>\n    </tr>\n    <tr>\n      <th>45210</th>\n      <td>technical_specialist</td>\n      <td>34</td>\n      <td>college</td>\n      <td>divorced</td>\n      <td>unidentified</td>\n      <td>May</td>\n      <td>29</td>\n      <td>578</td>\n      <td>3</td>\n      <td>unidentified</td>\n      <td>not_converted</td>\n    </tr>\n  </tbody>\n</table>\n<p>45211 rows × 11 columns</p>\n</div>"
     },
     "execution_count": 279,
     "metadata": {},
     "output_type": "execute_result"
    }
   ],
   "source": [
    "data"
   ],
   "metadata": {
    "collapsed": false,
    "ExecuteTime": {
     "end_time": "2024-03-24T05:29:31.146612Z",
     "start_time": "2024-03-24T05:29:31.131341Z"
    }
   },
   "id": "857bd7a950ecc770",
   "execution_count": 279
  },
  {
   "cell_type": "code",
   "outputs": [
    {
     "name": "stdout",
     "output_type": "stream",
     "text": [
      "CUDA not available. Using CPU\n"
     ]
    }
   ],
   "source": [
    "# Ensure CUDA availability check is correct\n",
    "if torch.cuda.is_available():\n",
    "    device = torch.device('cuda')  # Set device to CUDA\n",
    "    print(\"CUDA is available! Using GPU\")\n",
    "else:\n",
    "    device = torch.device('cpu')  # Fallback to CPU\n",
    "    print(\"CUDA not available. Using CPU\")"
   ],
   "metadata": {
    "collapsed": false,
    "ExecuteTime": {
     "end_time": "2024-03-24T05:29:31.162620Z",
     "start_time": "2024-03-24T05:29:31.147615Z"
    }
   },
   "id": "a61d1df4ce309dd1",
   "execution_count": 280
  },
  {
   "cell_type": "code",
   "outputs": [],
   "source": [
    "data_encoded = pd.get_dummies(data, columns=['occupation', 'education_level', \n",
    "                                             'marital_status', 'communication_channel', 'previous_campaign_outcome', 'call_month', 'conversion_status'])\n",
    "\n",
    "data_encoded = data_encoded.astype(int)"
   ],
   "metadata": {
    "collapsed": false,
    "ExecuteTime": {
     "end_time": "2024-03-24T05:29:31.193610Z",
     "start_time": "2024-03-24T05:29:31.163622Z"
    }
   },
   "id": "b88abc57f3842560",
   "execution_count": 281
  },
  {
   "cell_type": "code",
   "outputs": [],
   "source": [
    "X = data_encoded.drop(['conversion_status_converted', 'conversion_status_not_converted'], axis=1)\n",
    "y = data_encoded['conversion_status_converted']"
   ],
   "metadata": {
    "collapsed": false,
    "ExecuteTime": {
     "end_time": "2024-03-24T05:29:31.209228Z",
     "start_time": "2024-03-24T05:29:31.193610Z"
    }
   },
   "id": "fbad674f574b05e5",
   "execution_count": 282
  },
  {
   "cell_type": "code",
   "outputs": [
    {
     "name": "stdout",
     "output_type": "stream",
     "text": [
      "Data split into training and testing sets.\n",
      "Training Set (X_train): (31647, 42)\n",
      "Training Set (y_train): (31647,)\n",
      "Test Set (X_test): (13564, 42)\n",
      "Test Set (y_test): (13564,)\n"
     ]
    }
   ],
   "source": [
    "# train-test split for model evaluation\n",
    "X_train, X_test, y_train, y_test = train_test_split(X, y, train_size=0.7, shuffle=True)\n",
    "\n",
    "X_train = X_train.values\n",
    "X_test = X_test.values\n",
    "y_train = y_train.values\n",
    "y_test = y_test.values\n",
    "\n",
    "print(\"Data split into training and testing sets.\")\n",
    "print(\"Training Set (X_train):\", X_train.shape)\n",
    "print(\"Training Set (y_train):\", y_train.shape)\n",
    "print(\"Test Set (X_test):\", X_test.shape)\n",
    "print(\"Test Set (y_test):\", y_test.shape)"
   ],
   "metadata": {
    "collapsed": false,
    "ExecuteTime": {
     "end_time": "2024-03-24T05:29:31.225139Z",
     "start_time": "2024-03-24T05:29:31.210229Z"
    }
   },
   "id": "80be7cb73a72f4d3",
   "execution_count": 283
  },
  {
   "cell_type": "code",
   "outputs": [],
   "source": [
    "X_train = torch.tensor(X_train, dtype=torch.float32, device=device)\n",
    "y_train = torch.tensor(y_train, dtype=torch.float32, device=device).reshape(-1, 1)\n",
    "X_test = torch.tensor(X_test, dtype=torch.float32, device=device)\n",
    "y_test = torch.tensor(y_test, dtype=torch.float32, device=device).reshape(-1, 1)"
   ],
   "metadata": {
    "collapsed": false,
    "ExecuteTime": {
     "end_time": "2024-03-24T05:29:31.240791Z",
     "start_time": "2024-03-24T05:29:31.226138Z"
    }
   },
   "id": "f78cfaef46c91259",
   "execution_count": 284
  },
  {
   "cell_type": "code",
   "outputs": [
    {
     "data": {
      "text/plain": "       age  call_day  call_duration  call_frequency  \\\n0       28         9              1               1   \n1       58         5            307               2   \n2       40         4            113               1   \n3       63         7             72               5   \n4       43        29            184               4   \n...    ...       ...            ...             ...   \n45206   50         6            114               1   \n45207   49        13             98               1   \n45208   30        12            175               2   \n45209   59        15             41               5   \n45210   34        29            578               3   \n\n       occupation_administrative_staff  occupation_business_owner  \\\n0                                    1                          0   \n1                                    1                          0   \n2                                    0                          0   \n3                                    0                          0   \n4                                    0                          1   \n...                                ...                        ...   \n45206                                1                          0   \n45207                                0                          0   \n45208                                0                          0   \n45209                                0                          0   \n45210                                0                          0   \n\n       occupation_domestic_worker  occupation_executive  \\\n0                               0                     0   \n1                               0                     0   \n2                               0                     0   \n3                               0                     0   \n4                               0                     0   \n...                           ...                   ...   \n45206                           0                     0   \n45207                           0                     0   \n45208                           0                     1   \n45209                           0                     0   \n45210                           0                     0   \n\n       occupation_independent_worker  occupation_jobless  ...  \\\n0                                  0                   0  ...   \n1                                  0                   0  ...   \n2                                  0                   1  ...   \n3                                  0                   0  ...   \n4                                  0                   0  ...   \n...                              ...                 ...  ...   \n45206                              0                   0  ...   \n45207                              1                   0  ...   \n45208                              0                   0  ...   \n45209                              0                   0  ...   \n45210                              0                   0  ...   \n\n       call_month_December  call_month_February  call_month_January  \\\n0                        0                    0                   0   \n1                        0                    0                   0   \n2                        0                    1                   0   \n3                        0                    0                   0   \n4                        0                    0                   0   \n...                    ...                  ...                 ...   \n45206                    0                    0                   0   \n45207                    0                    0                   0   \n45208                    0                    0                   0   \n45209                    0                    0                   0   \n45210                    0                    0                   0   \n\n       call_month_July  call_month_June  call_month_March  call_month_May  \\\n0                    0                0                 0               0   \n1                    0                1                 0               0   \n2                    0                0                 0               0   \n3                    0                0                 0               0   \n4                    1                0                 0               0   \n...                ...              ...               ...             ...   \n45206                0                0                 0               1   \n45207                0                0                 0               1   \n45208                0                1                 0               0   \n45209                1                0                 0               0   \n45210                0                0                 0               1   \n\n       call_month_November  call_month_October  call_month_September  \n0                        0                   0                     1  \n1                        0                   0                     0  \n2                        0                   0                     0  \n3                        0                   0                     0  \n4                        0                   0                     0  \n...                    ...                 ...                   ...  \n45206                    0                   0                     0  \n45207                    0                   0                     0  \n45208                    0                   0                     0  \n45209                    0                   0                     0  \n45210                    0                   0                     0  \n\n[45211 rows x 42 columns]",
      "text/html": "<div>\n<style scoped>\n    .dataframe tbody tr th:only-of-type {\n        vertical-align: middle;\n    }\n\n    .dataframe tbody tr th {\n        vertical-align: top;\n    }\n\n    .dataframe thead th {\n        text-align: right;\n    }\n</style>\n<table border=\"1\" class=\"dataframe\">\n  <thead>\n    <tr style=\"text-align: right;\">\n      <th></th>\n      <th>age</th>\n      <th>call_day</th>\n      <th>call_duration</th>\n      <th>call_frequency</th>\n      <th>occupation_administrative_staff</th>\n      <th>occupation_business_owner</th>\n      <th>occupation_domestic_worker</th>\n      <th>occupation_executive</th>\n      <th>occupation_independent_worker</th>\n      <th>occupation_jobless</th>\n      <th>...</th>\n      <th>call_month_December</th>\n      <th>call_month_February</th>\n      <th>call_month_January</th>\n      <th>call_month_July</th>\n      <th>call_month_June</th>\n      <th>call_month_March</th>\n      <th>call_month_May</th>\n      <th>call_month_November</th>\n      <th>call_month_October</th>\n      <th>call_month_September</th>\n    </tr>\n  </thead>\n  <tbody>\n    <tr>\n      <th>0</th>\n      <td>28</td>\n      <td>9</td>\n      <td>1</td>\n      <td>1</td>\n      <td>1</td>\n      <td>0</td>\n      <td>0</td>\n      <td>0</td>\n      <td>0</td>\n      <td>0</td>\n      <td>...</td>\n      <td>0</td>\n      <td>0</td>\n      <td>0</td>\n      <td>0</td>\n      <td>0</td>\n      <td>0</td>\n      <td>0</td>\n      <td>0</td>\n      <td>0</td>\n      <td>1</td>\n    </tr>\n    <tr>\n      <th>1</th>\n      <td>58</td>\n      <td>5</td>\n      <td>307</td>\n      <td>2</td>\n      <td>1</td>\n      <td>0</td>\n      <td>0</td>\n      <td>0</td>\n      <td>0</td>\n      <td>0</td>\n      <td>...</td>\n      <td>0</td>\n      <td>0</td>\n      <td>0</td>\n      <td>0</td>\n      <td>1</td>\n      <td>0</td>\n      <td>0</td>\n      <td>0</td>\n      <td>0</td>\n      <td>0</td>\n    </tr>\n    <tr>\n      <th>2</th>\n      <td>40</td>\n      <td>4</td>\n      <td>113</td>\n      <td>1</td>\n      <td>0</td>\n      <td>0</td>\n      <td>0</td>\n      <td>0</td>\n      <td>0</td>\n      <td>1</td>\n      <td>...</td>\n      <td>0</td>\n      <td>1</td>\n      <td>0</td>\n      <td>0</td>\n      <td>0</td>\n      <td>0</td>\n      <td>0</td>\n      <td>0</td>\n      <td>0</td>\n      <td>0</td>\n    </tr>\n    <tr>\n      <th>3</th>\n      <td>63</td>\n      <td>7</td>\n      <td>72</td>\n      <td>5</td>\n      <td>0</td>\n      <td>0</td>\n      <td>0</td>\n      <td>0</td>\n      <td>0</td>\n      <td>0</td>\n      <td>...</td>\n      <td>0</td>\n      <td>0</td>\n      <td>0</td>\n      <td>0</td>\n      <td>0</td>\n      <td>0</td>\n      <td>0</td>\n      <td>0</td>\n      <td>0</td>\n      <td>0</td>\n    </tr>\n    <tr>\n      <th>4</th>\n      <td>43</td>\n      <td>29</td>\n      <td>184</td>\n      <td>4</td>\n      <td>0</td>\n      <td>1</td>\n      <td>0</td>\n      <td>0</td>\n      <td>0</td>\n      <td>0</td>\n      <td>...</td>\n      <td>0</td>\n      <td>0</td>\n      <td>0</td>\n      <td>1</td>\n      <td>0</td>\n      <td>0</td>\n      <td>0</td>\n      <td>0</td>\n      <td>0</td>\n      <td>0</td>\n    </tr>\n    <tr>\n      <th>...</th>\n      <td>...</td>\n      <td>...</td>\n      <td>...</td>\n      <td>...</td>\n      <td>...</td>\n      <td>...</td>\n      <td>...</td>\n      <td>...</td>\n      <td>...</td>\n      <td>...</td>\n      <td>...</td>\n      <td>...</td>\n      <td>...</td>\n      <td>...</td>\n      <td>...</td>\n      <td>...</td>\n      <td>...</td>\n      <td>...</td>\n      <td>...</td>\n      <td>...</td>\n      <td>...</td>\n    </tr>\n    <tr>\n      <th>45206</th>\n      <td>50</td>\n      <td>6</td>\n      <td>114</td>\n      <td>1</td>\n      <td>1</td>\n      <td>0</td>\n      <td>0</td>\n      <td>0</td>\n      <td>0</td>\n      <td>0</td>\n      <td>...</td>\n      <td>0</td>\n      <td>0</td>\n      <td>0</td>\n      <td>0</td>\n      <td>0</td>\n      <td>0</td>\n      <td>1</td>\n      <td>0</td>\n      <td>0</td>\n      <td>0</td>\n    </tr>\n    <tr>\n      <th>45207</th>\n      <td>49</td>\n      <td>13</td>\n      <td>98</td>\n      <td>1</td>\n      <td>0</td>\n      <td>0</td>\n      <td>0</td>\n      <td>0</td>\n      <td>1</td>\n      <td>0</td>\n      <td>...</td>\n      <td>0</td>\n      <td>0</td>\n      <td>0</td>\n      <td>0</td>\n      <td>0</td>\n      <td>0</td>\n      <td>1</td>\n      <td>0</td>\n      <td>0</td>\n      <td>0</td>\n    </tr>\n    <tr>\n      <th>45208</th>\n      <td>30</td>\n      <td>12</td>\n      <td>175</td>\n      <td>2</td>\n      <td>0</td>\n      <td>0</td>\n      <td>0</td>\n      <td>1</td>\n      <td>0</td>\n      <td>0</td>\n      <td>...</td>\n      <td>0</td>\n      <td>0</td>\n      <td>0</td>\n      <td>0</td>\n      <td>1</td>\n      <td>0</td>\n      <td>0</td>\n      <td>0</td>\n      <td>0</td>\n      <td>0</td>\n    </tr>\n    <tr>\n      <th>45209</th>\n      <td>59</td>\n      <td>15</td>\n      <td>41</td>\n      <td>5</td>\n      <td>0</td>\n      <td>0</td>\n      <td>0</td>\n      <td>0</td>\n      <td>0</td>\n      <td>0</td>\n      <td>...</td>\n      <td>0</td>\n      <td>0</td>\n      <td>0</td>\n      <td>1</td>\n      <td>0</td>\n      <td>0</td>\n      <td>0</td>\n      <td>0</td>\n      <td>0</td>\n      <td>0</td>\n    </tr>\n    <tr>\n      <th>45210</th>\n      <td>34</td>\n      <td>29</td>\n      <td>578</td>\n      <td>3</td>\n      <td>0</td>\n      <td>0</td>\n      <td>0</td>\n      <td>0</td>\n      <td>0</td>\n      <td>0</td>\n      <td>...</td>\n      <td>0</td>\n      <td>0</td>\n      <td>0</td>\n      <td>0</td>\n      <td>0</td>\n      <td>0</td>\n      <td>1</td>\n      <td>0</td>\n      <td>0</td>\n      <td>0</td>\n    </tr>\n  </tbody>\n</table>\n<p>45211 rows × 42 columns</p>\n</div>"
     },
     "execution_count": 285,
     "metadata": {},
     "output_type": "execute_result"
    }
   ],
   "source": [
    "X"
   ],
   "metadata": {
    "collapsed": false,
    "ExecuteTime": {
     "end_time": "2024-03-24T05:29:31.255890Z",
     "start_time": "2024-03-24T05:29:31.241795Z"
    }
   },
   "id": "dba82f8211f37ee8",
   "execution_count": 285
  },
  {
   "cell_type": "code",
   "outputs": [
    {
     "name": "stdout",
     "output_type": "stream",
     "text": [
      "Model Architecture:\n",
      "Sequential(\n",
      "  (0): Linear(in_features=42, out_features=256, bias=True)\n",
      "  (1): ReLU()\n",
      "  (2): Linear(in_features=256, out_features=128, bias=True)\n",
      "  (3): ReLU()\n",
      "  (4): Linear(in_features=128, out_features=32, bias=True)\n",
      "  (5): ReLU()\n",
      "  (6): Linear(in_features=32, out_features=8, bias=True)\n",
      "  (7): ReLU()\n",
      "  (8): Linear(in_features=8, out_features=1, bias=True)\n",
      ")\n"
     ]
    },
    {
     "data": {
      "text/plain": "Sequential(\n  (0): Linear(in_features=42, out_features=256, bias=True)\n  (1): ReLU()\n  (2): Linear(in_features=256, out_features=128, bias=True)\n  (3): ReLU()\n  (4): Linear(in_features=128, out_features=32, bias=True)\n  (5): ReLU()\n  (6): Linear(in_features=32, out_features=8, bias=True)\n  (7): ReLU()\n  (8): Linear(in_features=8, out_features=1, bias=True)\n)"
     },
     "execution_count": 286,
     "metadata": {},
     "output_type": "execute_result"
    }
   ],
   "source": [
    "# Define the model\n",
    "model = nn.Sequential(\n",
    "    nn.Linear(42, 256),\n",
    "    nn.ReLU(),\n",
    "    \n",
    "    nn.Linear(256, 128),\n",
    "    nn.ReLU(),\n",
    "    \n",
    "    nn.Linear(128, 32),\n",
    "    nn.ReLU(),\n",
    "    \n",
    "    nn.Linear(32, 8),\n",
    "    nn.ReLU(),\n",
    "    \n",
    "    nn.Linear(8, 1)\n",
    ")\n",
    "\n",
    "print(\"Model Architecture:\")\n",
    "print(model)\n",
    "\n",
    "model.to(device)  # Move the model to the specified device"
   ],
   "metadata": {
    "collapsed": false,
    "ExecuteTime": {
     "end_time": "2024-03-24T05:29:31.271925Z",
     "start_time": "2024-03-24T05:29:31.256890Z"
    }
   },
   "id": "893d23f5fdf5e5b5",
   "execution_count": 286
  },
  {
   "cell_type": "code",
   "outputs": [],
   "source": [
    "# loss function and optimizer\n",
    "loss_fn = nn.BCEWithLogitsLoss()  # binary cross-entropy with logits\n",
    "optimizer = optim.Adam(model.parameters(), lr=0.0001)\n",
    " \n",
    "n_epochs = 100   # number of epochs to run\n",
    "batch_size = 16  # size of each batch\n",
    "batch_start = torch.arange(0, len(X_train), batch_size)\n"
   ],
   "metadata": {
    "collapsed": false,
    "ExecuteTime": {
     "end_time": "2024-03-24T05:29:31.287946Z",
     "start_time": "2024-03-24T05:29:31.273923Z"
    }
   },
   "id": "91c9c2e18184d37e",
   "execution_count": 287
  },
  {
   "cell_type": "code",
   "outputs": [],
   "source": [
    "# Hold the best model\n",
    "best_recall = float('-inf')   # init to negative infinity\n",
    "best_weights = None\n",
    "history = []"
   ],
   "metadata": {
    "collapsed": false,
    "ExecuteTime": {
     "end_time": "2024-03-24T05:29:31.303958Z",
     "start_time": "2024-03-24T05:29:31.287946Z"
    }
   },
   "id": "e6bd8d7da21a8c1e",
   "execution_count": 288
  },
  {
   "cell_type": "code",
   "outputs": [
    {
     "name": "stdout",
     "output_type": "stream",
     "text": [
      "\n",
      "--- Starting Epoch 0 ---\n"
     ]
    },
    {
     "name": "stderr",
     "output_type": "stream",
     "text": [
      "C:\\Users\\calyc\\PycharmProjects\\timeseries\\.venv\\lib\\site-packages\\sklearn\\metrics\\_classification.py:1509: UndefinedMetricWarning: Precision is ill-defined and being set to 0.0 due to no predicted samples. Use `zero_division` parameter to control this behavior.\n",
      "  _warn_prf(average, modifier, f\"{metric.capitalize()} is\", len(result))\n"
     ]
    },
    {
     "name": "stdout",
     "output_type": "stream",
     "text": [
      "Epoch 0 - Accuracy: 0.8810, Precision: 0.0000, Recall: 0.0000, F1: 0.0000\n",
      "\n",
      "--- Starting Epoch 1 ---\n",
      "Epoch 1 - Accuracy: 0.8839, Precision: 0.6211, Recall: 0.0620, F1: 0.1127\n",
      "\n",
      "--- Starting Epoch 2 ---\n",
      "Epoch 2 - Accuracy: 0.8882, Precision: 0.6047, Recall: 0.1753, F1: 0.2719\n",
      "\n",
      "--- Starting Epoch 3 ---\n",
      "Epoch 3 - Accuracy: 0.8863, Precision: 0.6154, Recall: 0.1190, F1: 0.1994\n",
      "\n",
      "--- Starting Epoch 4 ---\n",
      "Epoch 4 - Accuracy: 0.8880, Precision: 0.5468, Recall: 0.3439, F1: 0.4222\n",
      "\n",
      "--- Starting Epoch 5 ---\n",
      "Epoch 5 - Accuracy: 0.8899, Precision: 0.5993, Recall: 0.2261, F1: 0.3284\n",
      "\n",
      "--- Starting Epoch 6 ---\n",
      "Epoch 6 - Accuracy: 0.8899, Precision: 0.5832, Recall: 0.2627, F1: 0.3622\n",
      "\n",
      "--- Starting Epoch 7 ---\n",
      "Epoch 7 - Accuracy: 0.8896, Precision: 0.5697, Recall: 0.2962, F1: 0.3897\n",
      "\n",
      "--- Starting Epoch 8 ---\n",
      "Epoch 8 - Accuracy: 0.8930, Precision: 0.6083, Recall: 0.2819, F1: 0.3853\n",
      "\n",
      "--- Starting Epoch 9 ---\n",
      "Epoch 9 - Accuracy: 0.8946, Precision: 0.5836, Recall: 0.3978, F1: 0.4731\n",
      "\n",
      "--- Starting Epoch 10 ---\n",
      "Epoch 10 - Accuracy: 0.8957, Precision: 0.5871, Recall: 0.4157, F1: 0.4868\n",
      "\n",
      "--- Starting Epoch 11 ---\n",
      "Epoch 11 - Accuracy: 0.8983, Precision: 0.5884, Recall: 0.4845, F1: 0.5314\n",
      "\n",
      "--- Starting Epoch 12 ---\n",
      "Epoch 12 - Accuracy: 0.9004, Precision: 0.6017, Recall: 0.4820, F1: 0.5353\n",
      "\n",
      "--- Starting Epoch 13 ---\n",
      "Epoch 13 - Accuracy: 0.9012, Precision: 0.6013, Recall: 0.5037, F1: 0.5482\n",
      "\n",
      "--- Starting Epoch 14 ---\n",
      "Epoch 14 - Accuracy: 0.9017, Precision: 0.6013, Recall: 0.5149, F1: 0.5547\n",
      "\n",
      "--- Starting Epoch 15 ---\n",
      "Epoch 15 - Accuracy: 0.9022, Precision: 0.6042, Recall: 0.5155, F1: 0.5563\n",
      "\n",
      "--- Starting Epoch 16 ---\n",
      "Epoch 16 - Accuracy: 0.9017, Precision: 0.5997, Recall: 0.5217, F1: 0.5580\n",
      "\n",
      "--- Starting Epoch 17 ---\n",
      "Epoch 17 - Accuracy: 0.9033, Precision: 0.6244, Recall: 0.4696, F1: 0.5361\n",
      "\n",
      "--- Starting Epoch 18 ---\n",
      "Epoch 18 - Accuracy: 0.9020, Precision: 0.6087, Recall: 0.4944, F1: 0.5456\n",
      "\n",
      "--- Starting Epoch 19 ---\n",
      "Epoch 19 - Accuracy: 0.9031, Precision: 0.6251, Recall: 0.4628, F1: 0.5319\n",
      "\n",
      "--- Starting Epoch 20 ---\n",
      "Epoch 20 - Accuracy: 0.9022, Precision: 0.6032, Recall: 0.5217, F1: 0.5595\n",
      "\n",
      "--- Starting Epoch 21 ---\n",
      "Epoch 21 - Accuracy: 0.9036, Precision: 0.6150, Recall: 0.5068, F1: 0.5557\n",
      "\n",
      "--- Starting Epoch 22 ---\n",
      "Epoch 22 - Accuracy: 0.9041, Precision: 0.6241, Recall: 0.4876, F1: 0.5475\n",
      "\n",
      "--- Starting Epoch 23 ---\n",
      "Epoch 23 - Accuracy: 0.9043, Precision: 0.6308, Recall: 0.4721, F1: 0.5400\n",
      "\n",
      "--- Starting Epoch 24 ---\n",
      "Epoch 24 - Accuracy: 0.9048, Precision: 0.6345, Recall: 0.4721, F1: 0.5414\n",
      "\n",
      "--- Starting Epoch 25 ---\n",
      "Epoch 25 - Accuracy: 0.9033, Precision: 0.6431, Recall: 0.4219, F1: 0.5095\n",
      "\n",
      "--- Starting Epoch 26 ---\n",
      "Epoch 26 - Accuracy: 0.9041, Precision: 0.6208, Recall: 0.4981, F1: 0.5528\n",
      "\n",
      "--- Starting Epoch 27 ---\n",
      "Epoch 27 - Accuracy: 0.9043, Precision: 0.6337, Recall: 0.4641, F1: 0.5358\n",
      "\n",
      "--- Starting Epoch 28 ---\n",
      "Epoch 28 - Accuracy: 0.9046, Precision: 0.6307, Recall: 0.4783, F1: 0.5440\n",
      "\n",
      "--- Starting Epoch 29 ---\n",
      "Epoch 29 - Accuracy: 0.9045, Precision: 0.6212, Recall: 0.5050, F1: 0.5571\n",
      "\n",
      "--- Starting Epoch 30 ---\n",
      "Epoch 30 - Accuracy: 0.9046, Precision: 0.6258, Recall: 0.4932, F1: 0.5516\n",
      "\n",
      "--- Starting Epoch 31 ---\n",
      "Epoch 31 - Accuracy: 0.9048, Precision: 0.6325, Recall: 0.4777, F1: 0.5443\n",
      "\n",
      "--- Starting Epoch 32 ---\n",
      "Epoch 32 - Accuracy: 0.9047, Precision: 0.6305, Recall: 0.4820, F1: 0.5463\n",
      "\n",
      "--- Starting Epoch 33 ---\n",
      "Epoch 33 - Accuracy: 0.9051, Precision: 0.6394, Recall: 0.4647, F1: 0.5382\n",
      "\n",
      "--- Starting Epoch 34 ---\n",
      "Epoch 34 - Accuracy: 0.9060, Precision: 0.6414, Recall: 0.4765, F1: 0.5467\n",
      "\n",
      "--- Starting Epoch 35 ---\n",
      "Epoch 35 - Accuracy: 0.9048, Precision: 0.6347, Recall: 0.4715, F1: 0.5411\n",
      "\n",
      "--- Starting Epoch 36 ---\n",
      "Epoch 36 - Accuracy: 0.9054, Precision: 0.6369, Recall: 0.4771, F1: 0.5455\n",
      "\n",
      "--- Starting Epoch 37 ---\n",
      "Epoch 37 - Accuracy: 0.9046, Precision: 0.6274, Recall: 0.4882, F1: 0.5491\n",
      "\n",
      "--- Starting Epoch 38 ---\n",
      "Epoch 38 - Accuracy: 0.9046, Precision: 0.6288, Recall: 0.4839, F1: 0.5469\n",
      "\n",
      "--- Starting Epoch 39 ---\n",
      "Epoch 39 - Accuracy: 0.9046, Precision: 0.6270, Recall: 0.4895, F1: 0.5498\n",
      "\n",
      "--- Starting Epoch 40 ---\n",
      "Epoch 40 - Accuracy: 0.9045, Precision: 0.6270, Recall: 0.4864, F1: 0.5478\n",
      "\n",
      "--- Starting Epoch 41 ---\n",
      "Epoch 41 - Accuracy: 0.9047, Precision: 0.6247, Recall: 0.4981, F1: 0.5543\n",
      "\n",
      "--- Starting Epoch 42 ---\n",
      "Epoch 42 - Accuracy: 0.9049, Precision: 0.6244, Recall: 0.5037, F1: 0.5576\n",
      "\n",
      "--- Starting Epoch 43 ---\n",
      "Epoch 43 - Accuracy: 0.9050, Precision: 0.6228, Recall: 0.5105, F1: 0.5611\n",
      "\n",
      "--- Starting Epoch 44 ---\n",
      "Epoch 44 - Accuracy: 0.9047, Precision: 0.6221, Recall: 0.5068, F1: 0.5586\n",
      "\n",
      "--- Starting Epoch 45 ---\n",
      "Epoch 45 - Accuracy: 0.9055, Precision: 0.6256, Recall: 0.5124, F1: 0.5634\n",
      "\n",
      "--- Starting Epoch 46 ---\n",
      "Epoch 46 - Accuracy: 0.9042, Precision: 0.6118, Recall: 0.5322, F1: 0.5693\n",
      "\n",
      "--- Starting Epoch 47 ---\n",
      "Epoch 47 - Accuracy: 0.9047, Precision: 0.6167, Recall: 0.5254, F1: 0.5674\n",
      "\n",
      "--- Starting Epoch 48 ---\n",
      "Epoch 48 - Accuracy: 0.9050, Precision: 0.6217, Recall: 0.5143, F1: 0.5629\n",
      "\n",
      "--- Starting Epoch 49 ---\n",
      "Epoch 49 - Accuracy: 0.9053, Precision: 0.6241, Recall: 0.5143, F1: 0.5639\n",
      "\n",
      "--- Starting Epoch 50 ---\n",
      "Epoch 50 - Accuracy: 0.9048, Precision: 0.6239, Recall: 0.5037, F1: 0.5574\n",
      "\n",
      "--- Starting Epoch 51 ---\n",
      "Epoch 51 - Accuracy: 0.9040, Precision: 0.6108, Recall: 0.5328, F1: 0.5692\n",
      "\n",
      "--- Starting Epoch 52 ---\n",
      "Epoch 52 - Accuracy: 0.9051, Precision: 0.6207, Recall: 0.5211, F1: 0.5665\n",
      "\n",
      "--- Starting Epoch 53 ---\n",
      "Epoch 53 - Accuracy: 0.9046, Precision: 0.6221, Recall: 0.5050, F1: 0.5575\n",
      "\n",
      "--- Starting Epoch 54 ---\n",
      "Epoch 54 - Accuracy: 0.9054, Precision: 0.6240, Recall: 0.5161, F1: 0.5649\n",
      "\n",
      "--- Starting Epoch 55 ---\n",
      "Epoch 55 - Accuracy: 0.9043, Precision: 0.6127, Recall: 0.5322, F1: 0.5696\n",
      "\n",
      "--- Starting Epoch 56 ---\n",
      "Epoch 56 - Accuracy: 0.9042, Precision: 0.6206, Recall: 0.5006, F1: 0.5542\n",
      "\n",
      "--- Starting Epoch 57 ---\n",
      "Epoch 57 - Accuracy: 0.9052, Precision: 0.6250, Recall: 0.5081, F1: 0.5605\n",
      "\n",
      "--- Starting Epoch 58 ---\n",
      "Epoch 58 - Accuracy: 0.9052, Precision: 0.6176, Recall: 0.5335, F1: 0.5725\n",
      "\n",
      "--- Starting Epoch 59 ---\n",
      "Epoch 59 - Accuracy: 0.9045, Precision: 0.6157, Recall: 0.5242, F1: 0.5663\n",
      "\n",
      "--- Starting Epoch 60 ---\n",
      "Epoch 60 - Accuracy: 0.9040, Precision: 0.6124, Recall: 0.5266, F1: 0.5663\n",
      "\n",
      "--- Starting Epoch 61 ---\n",
      "Epoch 61 - Accuracy: 0.9059, Precision: 0.6304, Recall: 0.5062, F1: 0.5615\n",
      "\n",
      "--- Starting Epoch 62 ---\n",
      "Epoch 62 - Accuracy: 0.9063, Precision: 0.6266, Recall: 0.5260, F1: 0.5719\n",
      "\n",
      "--- Starting Epoch 63 ---\n",
      "Epoch 63 - Accuracy: 0.9056, Precision: 0.6203, Recall: 0.5335, F1: 0.5736\n",
      "\n",
      "--- Starting Epoch 64 ---\n",
      "Epoch 64 - Accuracy: 0.9051, Precision: 0.6339, Recall: 0.4796, F1: 0.5460\n",
      "\n",
      "--- Starting Epoch 65 ---\n",
      "Epoch 65 - Accuracy: 0.9050, Precision: 0.6305, Recall: 0.4864, F1: 0.5491\n",
      "\n",
      "--- Starting Epoch 66 ---\n",
      "Epoch 66 - Accuracy: 0.9059, Precision: 0.6412, Recall: 0.4740, F1: 0.5451\n",
      "\n",
      "--- Starting Epoch 67 ---\n",
      "Epoch 67 - Accuracy: 0.9047, Precision: 0.6269, Recall: 0.4913, F1: 0.5509\n",
      "\n",
      "--- Starting Epoch 68 ---\n",
      "Epoch 68 - Accuracy: 0.9043, Precision: 0.6232, Recall: 0.4950, F1: 0.5518\n",
      "\n",
      "--- Starting Epoch 69 ---\n",
      "Epoch 69 - Accuracy: 0.9045, Precision: 0.6329, Recall: 0.4690, F1: 0.5388\n",
      "\n",
      "--- Starting Epoch 70 ---\n",
      "Epoch 70 - Accuracy: 0.9068, Precision: 0.6516, Recall: 0.4659, F1: 0.5434\n",
      "\n",
      "--- Starting Epoch 71 ---\n",
      "Epoch 71 - Accuracy: 0.9053, Precision: 0.6467, Recall: 0.4492, F1: 0.5302\n",
      "\n",
      "--- Starting Epoch 72 ---\n",
      "Epoch 72 - Accuracy: 0.9057, Precision: 0.6361, Recall: 0.4851, F1: 0.5504\n",
      "\n",
      "--- Starting Epoch 73 ---\n",
      "Epoch 73 - Accuracy: 0.9067, Precision: 0.6418, Recall: 0.4895, F1: 0.5554\n",
      "\n",
      "--- Starting Epoch 74 ---\n",
      "Epoch 74 - Accuracy: 0.9074, Precision: 0.6470, Recall: 0.4882, F1: 0.5565\n",
      "\n",
      "--- Starting Epoch 75 ---\n",
      "Epoch 75 - Accuracy: 0.9065, Precision: 0.6474, Recall: 0.4709, F1: 0.5452\n",
      "\n",
      "--- Starting Epoch 76 ---\n",
      "Epoch 76 - Accuracy: 0.9068, Precision: 0.6562, Recall: 0.4554, F1: 0.5377\n",
      "\n",
      "--- Starting Epoch 77 ---\n",
      "Epoch 77 - Accuracy: 0.9057, Precision: 0.6492, Recall: 0.4517, F1: 0.5327\n",
      "\n",
      "--- Starting Epoch 78 ---\n",
      "Epoch 78 - Accuracy: 0.9064, Precision: 0.6581, Recall: 0.4449, F1: 0.5309\n",
      "\n",
      "--- Starting Epoch 79 ---\n",
      "Epoch 79 - Accuracy: 0.9059, Precision: 0.6472, Recall: 0.4591, F1: 0.5372\n",
      "\n",
      "--- Starting Epoch 80 ---\n",
      "Epoch 80 - Accuracy: 0.9060, Precision: 0.6515, Recall: 0.4517, F1: 0.5335\n",
      "\n",
      "--- Starting Epoch 81 ---\n",
      "Epoch 81 - Accuracy: 0.9062, Precision: 0.6497, Recall: 0.4597, F1: 0.5385\n",
      "\n",
      "--- Starting Epoch 82 ---\n",
      "Epoch 82 - Accuracy: 0.9069, Precision: 0.6474, Recall: 0.4777, F1: 0.5497\n",
      "\n",
      "--- Starting Epoch 83 ---\n",
      "Epoch 83 - Accuracy: 0.9059, Precision: 0.6451, Recall: 0.4641, F1: 0.5398\n",
      "\n",
      "--- Starting Epoch 84 ---\n",
      "Epoch 84 - Accuracy: 0.9064, Precision: 0.6478, Recall: 0.4684, F1: 0.5437\n",
      "\n",
      "--- Starting Epoch 85 ---\n",
      "Epoch 85 - Accuracy: 0.9053, Precision: 0.6611, Recall: 0.4182, F1: 0.5123\n",
      "\n",
      "--- Starting Epoch 86 ---\n",
      "Epoch 86 - Accuracy: 0.9058, Precision: 0.6576, Recall: 0.4343, F1: 0.5231\n",
      "\n",
      "--- Starting Epoch 87 ---\n",
      "Epoch 87 - Accuracy: 0.9073, Precision: 0.6479, Recall: 0.4845, F1: 0.5544\n",
      "\n",
      "--- Starting Epoch 88 ---\n",
      "Epoch 88 - Accuracy: 0.9075, Precision: 0.6507, Recall: 0.4802, F1: 0.5526\n",
      "\n",
      "--- Starting Epoch 89 ---\n",
      "Epoch 89 - Accuracy: 0.9055, Precision: 0.6356, Recall: 0.4820, F1: 0.5483\n",
      "\n",
      "--- Starting Epoch 90 ---\n",
      "Epoch 90 - Accuracy: 0.9073, Precision: 0.6484, Recall: 0.4833, F1: 0.5538\n",
      "\n",
      "--- Starting Epoch 91 ---\n",
      "Epoch 91 - Accuracy: 0.9076, Precision: 0.6498, Recall: 0.4851, F1: 0.5555\n",
      "\n",
      "--- Starting Epoch 92 ---\n",
      "Epoch 92 - Accuracy: 0.9070, Precision: 0.6457, Recall: 0.4845, F1: 0.5536\n",
      "\n",
      "--- Starting Epoch 93 ---\n",
      "Epoch 93 - Accuracy: 0.9075, Precision: 0.6495, Recall: 0.4833, F1: 0.5542\n",
      "\n",
      "--- Starting Epoch 94 ---\n",
      "Epoch 94 - Accuracy: 0.9067, Precision: 0.6429, Recall: 0.4864, F1: 0.5538\n",
      "\n",
      "--- Starting Epoch 95 ---\n",
      "Epoch 95 - Accuracy: 0.9064, Precision: 0.6426, Recall: 0.4802, F1: 0.5496\n",
      "\n",
      "--- Starting Epoch 96 ---\n",
      "Epoch 96 - Accuracy: 0.9076, Precision: 0.6434, Recall: 0.5019, F1: 0.5639\n",
      "\n",
      "--- Starting Epoch 97 ---\n",
      "Epoch 97 - Accuracy: 0.9069, Precision: 0.6414, Recall: 0.4932, F1: 0.5576\n",
      "\n",
      "--- Starting Epoch 98 ---\n",
      "Epoch 98 - Accuracy: 0.9070, Precision: 0.6472, Recall: 0.4808, F1: 0.5517\n",
      "\n",
      "--- Starting Epoch 99 ---\n",
      "Epoch 99 - Accuracy: 0.9076, Precision: 0.6483, Recall: 0.4888, F1: 0.5574\n"
     ]
    }
   ],
   "source": [
    "for epoch in range(n_epochs):\n",
    "    print(f\"\\n--- Starting Epoch {epoch} ---\")\n",
    "    model.train()\n",
    "    with tqdm.tqdm(batch_start, unit=\"batch\", mininterval=0, disable=True) as bar:\n",
    "        bar.set_description(f\"Epoch {epoch}\")\n",
    "        for start in bar:\n",
    "            # take a batch\n",
    "            X_batch = X_train[start:start+batch_size]\n",
    "            y_batch = y_train[start:start+batch_size]\n",
    "            \n",
    "            # forward pass\n",
    "            y_pred_proba = model(X_batch)\n",
    "            loss = loss_fn(y_pred_proba, y_batch) \n",
    "            \n",
    "            # backward pass\n",
    "            optimizer.zero_grad()\n",
    "            loss.backward()\n",
    "            \n",
    "            # update weights\n",
    "            optimizer.step()\n",
    "            \n",
    "            # print progress\n",
    "            bar.set_postfix(loss=float(loss))\n",
    "            \n",
    "    # evaluate accuracy at end of each epoch\n",
    "    with torch.no_grad():\n",
    "        y_pred_proba = model(X_test)\n",
    "        y_pred = (y_pred_proba > 0).float()\n",
    "        accuracy = accuracy_score(y_test.cpu(), y_pred.cpu())\n",
    "        precision = precision_score(y_test.cpu(), y_pred.cpu())\n",
    "        recall = recall_score(y_test.cpu(), y_pred.cpu())\n",
    "        f1 = f1_score(y_test.cpu(), y_pred.cpu())\n",
    "    print(f\"Epoch {epoch} - Accuracy: {accuracy:.4f}, Precision: {precision:.4f}, Recall: {recall:.4f}, F1: {f1:.4f}\")\n",
    "    \n",
    "    history.append(recall)\n",
    "    if recall > best_recall:\n",
    "        best_recall = recall\n",
    "        best_weights = copy.deepcopy(model.state_dict())"
   ],
   "metadata": {
    "collapsed": false,
    "ExecuteTime": {
     "end_time": "2024-03-24T05:32:50.443980Z",
     "start_time": "2024-03-24T05:29:31.304965Z"
    }
   },
   "id": "a133ef5bae7c9087",
   "execution_count": 289
  },
  {
   "cell_type": "code",
   "outputs": [
    {
     "name": "stdout",
     "output_type": "stream",
     "text": [
      "Best Recall: 0.5335\n"
     ]
    },
    {
     "data": {
      "text/plain": "<Figure size 640x480 with 1 Axes>",
      "image/png": "[encoded data removed]"
     },
     "metadata": {},
     "output_type": "display_data"
    }
   ],
   "source": [
    "# restore model and return best accuracy\n",
    "model.load_state_dict(best_weights)\n",
    "\n",
    "torch.save(model, 'my_trained_model.pt') \n",
    "\n",
    "print(\"Best Recall: %.4f\" % best_recall)\n",
    "plt.plot(history)\n",
    "plt.xlabel('Epoch')\n",
    "plt.ylabel('Recall')\n",
    "plt.title('Training Accuracy History')\n",
    "plt.show()\n"
   ],
   "metadata": {
    "collapsed": false,
    "ExecuteTime": {
     "end_time": "2024-03-24T05:32:50.521768Z",
     "start_time": "2024-03-24T05:32:50.444982Z"
    }
   },
   "id": "d3076141d9073220",
   "execution_count": 290
  },
  {
   "cell_type": "code",
   "outputs": [],
   "source": [
    "testing_data = data_encoded.drop('conversion_status_not_converted', axis=1)\n",
    "y_true = testing_data['conversion_status_converted']"
   ],
   "metadata": {
    "collapsed": false,
    "ExecuteTime": {
     "end_time": "2024-03-24T05:32:50.537148Z",
     "start_time": "2024-03-24T05:32:50.522773Z"
    }
   },
   "id": "5e609bef80c6d4b1",
   "execution_count": 291
  },
  {
   "cell_type": "code",
   "outputs": [],
   "source": [
    "# Load the trained model\n",
    "loaded_model = torch.load('my_trained_model.pt', map_location=device)\n"
   ],
   "metadata": {
    "collapsed": false,
    "ExecuteTime": {
     "end_time": "2024-03-24T05:32:50.552705Z",
     "start_time": "2024-03-24T05:32:50.538683Z"
    }
   },
   "id": "415b772904274ac7",
   "execution_count": 292
  },
  {
   "cell_type": "code",
   "outputs": [],
   "source": [
    "new_data_features = testing_data.drop('conversion_status_converted', axis=1)\n",
    "new_data_features = new_data_features.values\n",
    "\n",
    "new_data_tensor = torch.tensor(new_data_features, dtype=torch.float32, device=device)"
   ],
   "metadata": {
    "collapsed": false,
    "ExecuteTime": {
     "end_time": "2024-03-24T05:32:50.568678Z",
     "start_time": "2024-03-24T05:32:50.552943Z"
    }
   },
   "id": "878f058a2d3ec84a",
   "execution_count": 293
  },
  {
   "cell_type": "code",
   "outputs": [],
   "source": [
    "loaded_model.eval()\n",
    "with torch.no_grad():\n",
    "    logits = model(new_data_tensor)\n",
    "    probabilities = torch.sigmoid(logits)"
   ],
   "metadata": {
    "collapsed": false,
    "ExecuteTime": {
     "end_time": "2024-03-24T05:32:50.614665Z",
     "start_time": "2024-03-24T05:32:50.569183Z"
    }
   },
   "id": "74342dba63abc19d",
   "execution_count": 294
  },
  {
   "cell_type": "code",
   "outputs": [],
   "source": [
    "# Convert predictions to numpy array\n",
    "probabilities_numpy = probabilities.cpu().numpy()\n",
    "predicted_labels = np.where(probabilities_numpy >= 0.5, 1, 0)\n"
   ],
   "metadata": {
    "collapsed": false,
    "ExecuteTime": {
     "end_time": "2024-03-24T05:32:50.630745Z",
     "start_time": "2024-03-24T05:32:50.615665Z"
    }
   },
   "id": "63af9201af33a42e",
   "execution_count": 295
  },
  {
   "cell_type": "code",
   "outputs": [
    {
     "name": "stdout",
     "output_type": "stream",
     "text": [
      "Predicted Probability: 0.0464, Predicted Label: 0, Actual Label: 0\n",
      "Predicted Probability: 0.0041, Predicted Label: 0, Actual Label: 0\n",
      "Predicted Probability: 0.0000, Predicted Label: 0, Actual Label: 0\n",
      "Predicted Probability: 0.0153, Predicted Label: 0, Actual Label: 0\n",
      "Predicted Probability: 0.0197, Predicted Label: 0, Actual Label: 0\n"
     ]
    }
   ],
   "source": [
    "# Select 5 random data points\n",
    "random_indices = np.random.choice(len(probabilities_numpy), size=5, replace=False)\n",
    "\n",
    "# Print the predictions and actual values for the 5 random data points\n",
    "for idx in random_indices:\n",
    "    prob = probabilities_numpy[idx].item()\n",
    "    pred_label = predicted_labels[idx].item()\n",
    "    true_label = y_true[idx]  # Assuming y_new contains the actual labels\n",
    "    print(f\"Predicted Probability: {prob:.4f}, Predicted Label: {pred_label}, Actual Label: {true_label}\")"
   ],
   "metadata": {
    "collapsed": false,
    "ExecuteTime": {
     "end_time": "2024-03-24T05:32:50.646299Z",
     "start_time": "2024-03-24T05:32:50.631744Z"
    }
   },
   "id": "bbee9edf7b3a0f06",
   "execution_count": 296
  },
  {
   "cell_type": "code",
   "outputs": [
    {
     "name": "stdout",
     "output_type": "stream",
     "text": [
      "Top 50 Data Points:\n",
      "Predicted Probability: 0.9306, Predicted Label: 1, Actual Label: 1\n",
      "Predicted Probability: 0.9170, Predicted Label: 1, Actual Label: 1\n",
      "Predicted Probability: 0.9105, Predicted Label: 1, Actual Label: 1\n",
      "Predicted Probability: 0.9081, Predicted Label: 1, Actual Label: 0\n",
      "Predicted Probability: 0.9068, Predicted Label: 1, Actual Label: 1\n",
      "Predicted Probability: 0.9052, Predicted Label: 1, Actual Label: 1\n",
      "Predicted Probability: 0.8997, Predicted Label: 1, Actual Label: 1\n",
      "Predicted Probability: 0.8964, Predicted Label: 1, Actual Label: 1\n",
      "Predicted Probability: 0.8942, Predicted Label: 1, Actual Label: 1\n",
      "Predicted Probability: 0.8938, Predicted Label: 1, Actual Label: 1\n",
      "Predicted Probability: 0.8898, Predicted Label: 1, Actual Label: 1\n",
      "Predicted Probability: 0.8886, Predicted Label: 1, Actual Label: 1\n",
      "Predicted Probability: 0.8880, Predicted Label: 1, Actual Label: 1\n",
      "Predicted Probability: 0.8855, Predicted Label: 1, Actual Label: 1\n",
      "Predicted Probability: 0.8846, Predicted Label: 1, Actual Label: 1\n",
      "Predicted Probability: 0.8811, Predicted Label: 1, Actual Label: 1\n",
      "Predicted Probability: 0.8810, Predicted Label: 1, Actual Label: 1\n",
      "Predicted Probability: 0.8809, Predicted Label: 1, Actual Label: 1\n",
      "Predicted Probability: 0.8805, Predicted Label: 1, Actual Label: 0\n",
      "Predicted Probability: 0.8799, Predicted Label: 1, Actual Label: 1\n",
      "Predicted Probability: 0.8795, Predicted Label: 1, Actual Label: 1\n",
      "Predicted Probability: 0.8789, Predicted Label: 1, Actual Label: 1\n",
      "Predicted Probability: 0.8786, Predicted Label: 1, Actual Label: 1\n",
      "Predicted Probability: 0.8763, Predicted Label: 1, Actual Label: 1\n",
      "Predicted Probability: 0.8755, Predicted Label: 1, Actual Label: 0\n",
      "Predicted Probability: 0.8752, Predicted Label: 1, Actual Label: 1\n",
      "Predicted Probability: 0.8748, Predicted Label: 1, Actual Label: 1\n",
      "Predicted Probability: 0.8742, Predicted Label: 1, Actual Label: 1\n",
      "Predicted Probability: 0.8724, Predicted Label: 1, Actual Label: 1\n",
      "Predicted Probability: 0.8722, Predicted Label: 1, Actual Label: 1\n",
      "Predicted Probability: 0.8702, Predicted Label: 1, Actual Label: 1\n",
      "Predicted Probability: 0.8689, Predicted Label: 1, Actual Label: 1\n",
      "Predicted Probability: 0.8684, Predicted Label: 1, Actual Label: 1\n",
      "Predicted Probability: 0.8661, Predicted Label: 1, Actual Label: 1\n",
      "Predicted Probability: 0.8656, Predicted Label: 1, Actual Label: 1\n",
      "Predicted Probability: 0.8642, Predicted Label: 1, Actual Label: 1\n",
      "Predicted Probability: 0.8638, Predicted Label: 1, Actual Label: 1\n",
      "Predicted Probability: 0.8636, Predicted Label: 1, Actual Label: 1\n",
      "Predicted Probability: 0.8620, Predicted Label: 1, Actual Label: 1\n",
      "Predicted Probability: 0.8620, Predicted Label: 1, Actual Label: 1\n",
      "Predicted Probability: 0.8618, Predicted Label: 1, Actual Label: 1\n",
      "Predicted Probability: 0.8618, Predicted Label: 1, Actual Label: 1\n",
      "Predicted Probability: 0.8615, Predicted Label: 1, Actual Label: 1\n",
      "Predicted Probability: 0.8600, Predicted Label: 1, Actual Label: 1\n",
      "Predicted Probability: 0.8592, Predicted Label: 1, Actual Label: 1\n",
      "Predicted Probability: 0.8592, Predicted Label: 1, Actual Label: 1\n",
      "Predicted Probability: 0.8586, Predicted Label: 1, Actual Label: 1\n",
      "Predicted Probability: 0.8579, Predicted Label: 1, Actual Label: 0\n",
      "Predicted Probability: 0.8574, Predicted Label: 1, Actual Label: 1\n",
      "Predicted Probability: 0.8571, Predicted Label: 1, Actual Label: 1\n"
     ]
    }
   ],
   "source": [
    "sorted_indices = np.argsort(probabilities_numpy, axis=0)[::-1].flatten()\n",
    "top_indices = sorted_indices[:50]\n",
    "\n",
    "print(\"Top 50 Data Points:\")\n",
    "for idx in top_indices:\n",
    "    prob = probabilities_numpy[idx].item()\n",
    "    pred_label = predicted_labels[idx].item()\n",
    "    true_label = y_true[idx]  # Assuming y_new contains the actual labels\n",
    "    print(f\"Predicted Probability: {prob:.4f}, Predicted Label: {pred_label}, Actual Label: {true_label}\")"
   ],
   "metadata": {
    "collapsed": false,
    "ExecuteTime": {
     "end_time": "2024-03-24T05:32:50.662323Z",
     "start_time": "2024-03-24T05:32:50.647300Z"
    }
   },
   "id": "a642e7e4339447c1",
   "execution_count": 297
  },
  {
   "cell_type": "code",
   "outputs": [
    {
     "data": {
      "text/plain": "                 occupation  age    education_level marital_status  \\\n0      administrative_staff   28        high_school        married   \n1      administrative_staff   58       unidentified        married   \n2                   jobless   40        high_school       divorced   \n3            retired_worker   63        high_school        married   \n4            business_owner   43            college        married   \n...                     ...  ...                ...            ...   \n45206  administrative_staff   50        high_school       divorced   \n45207    independent_worker   49            college        married   \n45208             executive   30            college        married   \n45209        retired_worker   59  elementary_school        married   \n45210  technical_specialist   34            college       divorced   \n\n      communication_channel call_month  call_day  call_duration  \\\n0              unidentified  September         9              1   \n1              unidentified       June         5            307   \n2                    mobile   February         4            113   \n3                    mobile      April         7             72   \n4                  landline       July        29            184   \n...                     ...        ...       ...            ...   \n45206                mobile        May         6            114   \n45207          unidentified        May        13             98   \n45208                mobile       June        12            175   \n45209              landline       July        15             41   \n45210          unidentified        May        29            578   \n\n       call_frequency previous_campaign_outcome conversion_status  \\\n0                   1                successful     not_converted   \n1                   2              unidentified     not_converted   \n2                   1              unidentified     not_converted   \n3                   5              unidentified     not_converted   \n4                   4              unidentified     not_converted   \n...               ...                       ...               ...   \n45206               1              unsuccessful     not_converted   \n45207               1              unidentified     not_converted   \n45208               2             other_outcome     not_converted   \n45209               5              unidentified     not_converted   \n45210               3              unidentified     not_converted   \n\n       Predicted_Probability  Predicted_Label  \n0               3.196575e-09                0  \n1               2.136702e-02                0  \n2               9.910520e-03                0  \n3               5.084544e-05                0  \n4               1.354291e-02                0  \n...                      ...              ...  \n45206           1.735582e-03                0  \n45207           2.846873e-04                0  \n45208           3.681700e-01                0  \n45209           1.610182e-07                0  \n45210           1.940641e-01                0  \n\n[45211 rows x 13 columns]",
      "text/html": "<div>\n<style scoped>\n    .dataframe tbody tr th:only-of-type {\n        vertical-align: middle;\n    }\n\n    .dataframe tbody tr th {\n        vertical-align: top;\n    }\n\n    .dataframe thead th {\n        text-align: right;\n    }\n</style>\n<table border=\"1\" class=\"dataframe\">\n  <thead>\n    <tr style=\"text-align: right;\">\n      <th></th>\n      <th>occupation</th>\n      <th>age</th>\n      <th>education_level</th>\n      <th>marital_status</th>\n      <th>communication_channel</th>\n      <th>call_month</th>\n      <th>call_day</th>\n      <th>call_duration</th>\n      <th>call_frequency</th>\n      <th>previous_campaign_outcome</th>\n      <th>conversion_status</th>\n      <th>Predicted_Probability</th>\n      <th>Predicted_Label</th>\n    </tr>\n  </thead>\n  <tbody>\n    <tr>\n      <th>0</th>\n      <td>administrative_staff</td>\n      <td>28</td>\n      <td>high_school</td>\n      <td>married</td>\n      <td>unidentified</td>\n      <td>September</td>\n      <td>9</td>\n      <td>1</td>\n      <td>1</td>\n      <td>successful</td>\n      <td>not_converted</td>\n      <td>3.196575e-09</td>\n      <td>0</td>\n    </tr>\n    <tr>\n      <th>1</th>\n      <td>administrative_staff</td>\n      <td>58</td>\n      <td>unidentified</td>\n      <td>married</td>\n      <td>unidentified</td>\n      <td>June</td>\n      <td>5</td>\n      <td>307</td>\n      <td>2</td>\n      <td>unidentified</td>\n      <td>not_converted</td>\n      <td>2.136702e-02</td>\n      <td>0</td>\n    </tr>\n    <tr>\n      <th>2</th>\n      <td>jobless</td>\n      <td>40</td>\n      <td>high_school</td>\n      <td>divorced</td>\n      <td>mobile</td>\n      <td>February</td>\n      <td>4</td>\n      <td>113</td>\n      <td>1</td>\n      <td>unidentified</td>\n      <td>not_converted</td>\n      <td>9.910520e-03</td>\n      <td>0</td>\n    </tr>\n    <tr>\n      <th>3</th>\n      <td>retired_worker</td>\n      <td>63</td>\n      <td>high_school</td>\n      <td>married</td>\n      <td>mobile</td>\n      <td>April</td>\n      <td>7</td>\n      <td>72</td>\n      <td>5</td>\n      <td>unidentified</td>\n      <td>not_converted</td>\n      <td>5.084544e-05</td>\n      <td>0</td>\n    </tr>\n    <tr>\n      <th>4</th>\n      <td>business_owner</td>\n      <td>43</td>\n      <td>college</td>\n      <td>married</td>\n      <td>landline</td>\n      <td>July</td>\n      <td>29</td>\n      <td>184</td>\n      <td>4</td>\n      <td>unidentified</td>\n      <td>not_converted</td>\n      <td>1.354291e-02</td>\n      <td>0</td>\n    </tr>\n    <tr>\n      <th>...</th>\n      <td>...</td>\n      <td>...</td>\n      <td>...</td>\n      <td>...</td>\n      <td>...</td>\n      <td>...</td>\n      <td>...</td>\n      <td>...</td>\n      <td>...</td>\n      <td>...</td>\n      <td>...</td>\n      <td>...</td>\n      <td>...</td>\n    </tr>\n    <tr>\n      <th>45206</th>\n      <td>administrative_staff</td>\n      <td>50</td>\n      <td>high_school</td>\n      <td>divorced</td>\n      <td>mobile</td>\n      <td>May</td>\n      <td>6</td>\n      <td>114</td>\n      <td>1</td>\n      <td>unsuccessful</td>\n      <td>not_converted</td>\n      <td>1.735582e-03</td>\n      <td>0</td>\n    </tr>\n    <tr>\n      <th>45207</th>\n      <td>independent_worker</td>\n      <td>49</td>\n      <td>college</td>\n      <td>married</td>\n      <td>unidentified</td>\n      <td>May</td>\n      <td>13</td>\n      <td>98</td>\n      <td>1</td>\n      <td>unidentified</td>\n      <td>not_converted</td>\n      <td>2.846873e-04</td>\n      <td>0</td>\n    </tr>\n    <tr>\n      <th>45208</th>\n      <td>executive</td>\n      <td>30</td>\n      <td>college</td>\n      <td>married</td>\n      <td>mobile</td>\n      <td>June</td>\n      <td>12</td>\n      <td>175</td>\n      <td>2</td>\n      <td>other_outcome</td>\n      <td>not_converted</td>\n      <td>3.681700e-01</td>\n      <td>0</td>\n    </tr>\n    <tr>\n      <th>45209</th>\n      <td>retired_worker</td>\n      <td>59</td>\n      <td>elementary_school</td>\n      <td>married</td>\n      <td>landline</td>\n      <td>July</td>\n      <td>15</td>\n      <td>41</td>\n      <td>5</td>\n      <td>unidentified</td>\n      <td>not_converted</td>\n      <td>1.610182e-07</td>\n      <td>0</td>\n    </tr>\n    <tr>\n      <th>45210</th>\n      <td>technical_specialist</td>\n      <td>34</td>\n      <td>college</td>\n      <td>divorced</td>\n      <td>unidentified</td>\n      <td>May</td>\n      <td>29</td>\n      <td>578</td>\n      <td>3</td>\n      <td>unidentified</td>\n      <td>not_converted</td>\n      <td>1.940641e-01</td>\n      <td>0</td>\n    </tr>\n  </tbody>\n</table>\n<p>45211 rows × 13 columns</p>\n</div>"
     },
     "execution_count": 298,
     "metadata": {},
     "output_type": "execute_result"
    }
   ],
   "source": [
    "# Create a new DataFrame to store the results\n",
    "results_df = pd.DataFrame({\n",
    "    'Predicted_Probability': probabilities_numpy.flatten(),\n",
    "    'Predicted_Label': predicted_labels.flatten(),\n",
    "})\n",
    "\n",
    "# Concatenate the original dataset with the results DataFrame\n",
    "output_df = pd.concat([data, results_df], axis=1)\n",
    "\n",
    "# Print the head of the output DataFrame\n",
    "output_df"
   ],
   "metadata": {
    "collapsed": false,
    "ExecuteTime": {
     "end_time": "2024-03-24T05:32:50.677479Z",
     "start_time": "2024-03-24T05:32:50.662826Z"
    }
   },
   "id": "21c0613e5669bdc2",
   "execution_count": 298
  },
  {
   "cell_type": "code",
   "outputs": [],
   "source": [
    "# Writing output\n",
    "\n",
    "output_df.to_csv('output.csv')"
   ],
   "metadata": {
    "collapsed": false,
    "ExecuteTime": {
     "end_time": "2024-03-24T05:32:50.816863Z",
     "start_time": "2024-03-24T05:32:50.677479Z"
    }
   },
   "id": "1415f6e9805d5e47",
   "execution_count": 299
  }
 ],
 "metadata": {
  "kernelspec": {
   "display_name": "Python 3",
   "language": "python",
   "name": "python3"
  },
  "language_info": {
   "codemirror_mode": {
    "name": "ipython",
    "version": 2
   },
   "file_extension": ".py",
   "mimetype": "text/x-python",
   "name": "python",
   "nbconvert_exporter": "python",
   "pygments_lexer": "ipython2",
   "version": "2.7.6"
  }
 },
 "nbformat": 4,
 "nbformat_minor": 5
}
